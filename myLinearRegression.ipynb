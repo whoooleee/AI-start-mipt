{
 "cells": [
  {
   "cell_type": "code",
   "execution_count": null,
   "metadata": {},
   "outputs": [],
   "source": [
    "import numpy as np"
   ]
  },
  {
   "cell_type": "code",
   "execution_count": 2,
   "metadata": {},
   "outputs": [],
   "source": [
    "class MyLinearRegression:\n",
    "    def __init__(self):\n",
    "        self.coef_ = None\n",
    "        self.intercept_ = None\n",
    "\n",
    "    def fit(self, X, y):\n",
    "        X = np.array(X)\n",
    "        y = np.array(y)\n",
    "\n",
    "        X_n, X_f = X.shape\n",
    "\n",
    "        X = np.append(X, np.ones((X_n, 1)), axis=1)\n",
    "\n",
    "        if self.coef_ is None:\n",
    "            self.k = np.linalg.inv(X.T @ X) @ X.T @ y\n",
    "            self.coef_ = self.k[:X_f]\n",
    "            self.intercept_ = self.k[X_f:]\n",
    "\n",
    "        \n",
    "    def predict(self, X):\n",
    "        X_n, X_f = X.shape\n",
    "        X = np.append(X, np.ones((X_n, 1)), axis=1)\n",
    "        y_pred = X @ self.k\n",
    "\n",
    "        return y_pred\n",
    "\n",
    "\n",
    "\n",
    "\n"
   ]
  },
  {
   "cell_type": "code",
   "execution_count": null,
   "metadata": {},
   "outputs": [],
   "source": [
    "class Neuron:\n",
    "    def __init__(self, w, f = lambda x: x):\n",
    "        self.w = w\n",
    "        self.f = f\n",
    "        self.x = None\n",
    "\n",
    "    def forward(self, x):\n",
    "        self.x = x\n",
    "        if self.x is not None:\n",
    "            self.total = sum(map(lambda x, w: x*w, self.x, self.w))\n",
    "            return self.f(self.total)\n",
    "\n",
    "    def backlog(self):\n",
    "        return self.x"
   ]
  }
 ],
 "metadata": {
  "kernelspec": {
   "display_name": "base",
   "language": "python",
   "name": "python3"
  },
  "language_info": {
   "codemirror_mode": {
    "name": "ipython",
    "version": 3
   },
   "file_extension": ".py",
   "mimetype": "text/x-python",
   "name": "python",
   "nbconvert_exporter": "python",
   "pygments_lexer": "ipython3",
   "version": "3.11.5"
  }
 },
 "nbformat": 4,
 "nbformat_minor": 2
}
