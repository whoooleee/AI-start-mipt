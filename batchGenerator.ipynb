{
 "cells": [
  {
   "cell_type": "code",
   "execution_count": 1,
   "metadata": {},
   "outputs": [],
   "source": [
    "def generate_batches(X, y, batch_size):\n",
    "    \"\"\"\n",
    "    Генератор батчей.\n",
    "\n",
    "    :param X: np.array[n_objects, n_features] --- матрица объекты-признаки\n",
    "    :param y: np.array[n_objects] --- вектор целевых переменных\n",
    "    :param batch_size: int --- размер батча\n",
    "    :yield: tuple из (Xbatch, ybatch)\n",
    "    \"\"\"\n",
    "    assert len(X) == len(y)\n",
    "    np.random.seed(42)\n",
    "    X = np.array(X)\n",
    "    y = np.array(y)\n",
    "    perm = np.random.permutation(len(X))\n",
    "\n",
    "    num_batches = len(X) // batch_size\n",
    "    for batch_idx in range(num_batches):\n",
    "        batch_start = batch_idx * batch_size\n",
    "        batch_end = (batch_idx + 1) * batch_size\n",
    "        Xbatch = X[perm[batch_start:batch_end]]\n",
    "        ybatch = y[perm[batch_start:batch_end]]\n",
    "        yield Xbatch, ybatch"
   ]
  }
 ],
 "metadata": {
  "kernelspec": {
   "display_name": "base",
   "language": "python",
   "name": "python3"
  },
  "language_info": {
   "codemirror_mode": {
    "name": "ipython",
    "version": 3
   },
   "file_extension": ".py",
   "mimetype": "text/x-python",
   "name": "python",
   "nbconvert_exporter": "python",
   "pygments_lexer": "ipython3",
   "version": "3.11.5"
  }
 },
 "nbformat": 4,
 "nbformat_minor": 2
}
